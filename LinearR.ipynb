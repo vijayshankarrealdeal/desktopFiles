{
  "nbformat": 4,
  "nbformat_minor": 0,
  "metadata": {
    "colab": {
      "name": "LinearR.ipynb",
      "provenance": [],
      "collapsed_sections": [],
      "authorship_tag": "ABX9TyN7OkRCPe1aPAMtK8bhwpfj",
      "include_colab_link": true
    },
    "kernelspec": {
      "name": "python3",
      "display_name": "Python 3"
    },
    "language_info": {
      "name": "python"
    }
  },
  "cells": [
    {
      "cell_type": "markdown",
      "metadata": {
        "id": "view-in-github",
        "colab_type": "text"
      },
      "source": [
        "<a href=\"https://colab.research.google.com/github/vijayshankarrealdeal/desktopFiles/blob/main/LinearR.ipynb\" target=\"_parent\"><img src=\"https://colab.research.google.com/assets/colab-badge.svg\" alt=\"Open In Colab\"/></a>"
      ]
    },
    {
      "cell_type": "code",
      "metadata": {
        "id": "gJkyY4DvShZL"
      },
      "source": [
        "import pandas as pd\n",
        "import matplotlib.pyplot as plt\n",
        "import numpy as np\n",
        "import torch\n",
        "import torch.nn as nn"
      ],
      "execution_count": 1,
      "outputs": []
    },
    {
      "cell_type": "code",
      "metadata": {
        "colab": {
          "base_uri": "https://localhost:8080/",
          "height": 283
        },
        "id": "Umvf7UaEnOdf",
        "outputId": "e2ec0c8f-14ac-4277-8ebb-d7de25bed4f6"
      },
      "source": [
        "N = 20\n",
        "X = np.random.random(N)*10 -5\n",
        "Y = 0.5*X - 1 + np.random.randn(N)\n",
        "plt.scatter(X,Y)"
      ],
      "execution_count": 61,
      "outputs": [
        {
          "output_type": "execute_result",
          "data": {
            "text/plain": [
              "<matplotlib.collections.PathCollection at 0x7f9174f7b150>"
            ]
          },
          "metadata": {
            "tags": []
          },
          "execution_count": 61
        },
        {
          "output_type": "display_data",
          "data": {
            "image/png": "[encoded data removed]",
            "text/plain": [
              "<Figure size 432x288 with 1 Axes>"
            ]
          },
          "metadata": {
            "tags": [],
            "needs_background": "light"
          }
        }
      ]
    },
    {
      "cell_type": "code",
      "metadata": {
        "id": "Qup8tj8enhBh"
      },
      "source": [
        "X = X.reshape(N,1)\n",
        "Y = Y.reshape(N,1)"
      ],
      "execution_count": 62,
      "outputs": []
    },
    {
      "cell_type": "code",
      "metadata": {
        "colab": {
          "base_uri": "https://localhost:8080/"
        },
        "id": "fCEJS3eOnlpe",
        "outputId": "79915dd1-66d6-46be-d2d6-94762967f2bb"
      },
      "source": [
        "X.shape"
      ],
      "execution_count": 63,
      "outputs": [
        {
          "output_type": "execute_result",
          "data": {
            "text/plain": [
              "(20, 1)"
            ]
          },
          "metadata": {
            "tags": []
          },
          "execution_count": 63
        }
      ]
    },
    {
      "cell_type": "code",
      "metadata": {
        "id": "9AXPjdLvnnWw"
      },
      "source": [
        "input = torch.from_numpy(X.astype(np.float32))\n",
        "target = torch.from_numpy(Y.astype(np.float32))"
      ],
      "execution_count": 65,
      "outputs": []
    },
    {
      "cell_type": "code",
      "metadata": {
        "id": "6Ly3OycUeekA"
      },
      "source": [
        "criterion = torch.nn.MSELoss()\n",
        "model = nn.Linear(1,1)\n",
        "optim = torch.optim.SGD(model.parameters(),lr = 0.01)"
      ],
      "execution_count": 66,
      "outputs": []
    },
    {
      "cell_type": "code",
      "metadata": {
        "colab": {
          "base_uri": "https://localhost:8080/"
        },
        "id": "5cZmMFRFez3I",
        "outputId": "f0121cab-7de0-4b01-834c-cf1130955bf1"
      },
      "source": [
        "n_epochs = 30\n",
        "losses = []\n",
        "for epoch in range(n_epochs):\n",
        "  optim.zero_grad()\n",
        "  output = model(input)\n",
        "  loss = criterion(output,target)\n",
        "  print(loss.item())\n",
        "  losses.append(loss)\n",
        "  loss.backward()\n",
        "  optim.step()\n",
        "\n"
      ],
      "execution_count": 67,
      "outputs": [
        {
          "output_type": "stream",
          "text": [
            "5.133526802062988\n",
            "4.122542858123779\n",
            "3.414508819580078\n",
            "2.914961338043213\n",
            "2.5590450763702393\n",
            "2.302224636077881\n",
            "2.1139118671417236\n",
            "1.9730939865112305\n",
            "1.8653290271759033\n",
            "1.7806875705718994\n",
            "1.7123371362686157\n",
            "1.6555713415145874\n",
            "1.6071445941925049\n",
            "1.5648133754730225\n",
            "1.5270239114761353\n",
            "1.4926947355270386\n",
            "1.461071252822876\n",
            "1.4316219091415405\n",
            "1.4039690494537354\n",
            "1.3778419494628906\n",
            "1.3530433177947998\n",
            "1.3294267654418945\n",
            "1.3068803548812866\n",
            "1.285318374633789\n",
            "1.2646713256835938\n",
            "1.2448819875717163\n",
            "1.2259026765823364\n",
            "1.2076913118362427\n",
            "1.1902110576629639\n",
            "1.1734286546707153\n"
          ],
          "name": "stdout"
        }
      ]
    },
    {
      "cell_type": "code",
      "metadata": {
        "colab": {
          "base_uri": "https://localhost:8080/",
          "height": 284
        },
        "id": "77555fUmf8b6",
        "outputId": "85d89772-3a90-4a1c-b956-f1476d28716b"
      },
      "source": [
        "plt.plot(losses,range(n_epochs))"
      ],
      "execution_count": 68,
      "outputs": [
        {
          "output_type": "execute_result",
          "data": {
            "text/plain": [
              "[<matplotlib.lines.Line2D at 0x7f9174ec7250>]"
            ]
          },
          "metadata": {
            "tags": []
          },
          "execution_count": 68
        },
        {
          "output_type": "display_data",
          "data": {
            "image/png": "[encoded data removed]",
            "text/plain": [
              "<Figure size 432x288 with 1 Axes>"
            ]
          },
          "metadata": {
            "tags": [],
            "needs_background": "light"
          }
        }
      ]
    },
    {
      "cell_type": "code",
      "metadata": {
        "colab": {
          "base_uri": "https://localhost:8080/",
          "height": 265
        },
        "id": "kP__2AONoKbS",
        "outputId": "2e642f78-513f-4880-aad6-80fb6183c9cb"
      },
      "source": [
        "pred = model(input).detach().numpy()\n",
        "plt.scatter(X,Y)\n",
        "plt.plot(X,pred)\n",
        "plt.show()"
      ],
      "execution_count": 70,
      "outputs": [
        {
          "output_type": "display_data",
          "data": {
            "image/png": "[encoded data removed]",
            "text/plain": [
              "<Figure size 432x288 with 1 Axes>"
            ]
          },
          "metadata": {
            "tags": [],
            "needs_background": "light"
          }
        }
      ]
    },
    {
      "cell_type": "code",
      "metadata": {
        "colab": {
          "base_uri": "https://localhost:8080/"
        },
        "id": "T2fb2crYoKRv",
        "outputId": "a6757182-8197-4043-d101-b1879e6e0425"
      },
      "source": [
        "with torch.no_grad():\n",
        "  out = model(input).numpy()\n",
        "out"
      ],
      "execution_count": 71,
      "outputs": [
        {
          "output_type": "execute_result",
          "data": {
            "text/plain": [
              "array([[ 1.3607383 ],\n",
              "       [ 0.8277542 ],\n",
              "       [-0.23491469],\n",
              "       [-2.125862  ],\n",
              "       [ 1.8691969 ],\n",
              "       [ 0.5202959 ],\n",
              "       [-0.91080546],\n",
              "       [ 1.9955988 ],\n",
              "       [-0.07582337],\n",
              "       [-1.9270515 ],\n",
              "       [-2.8035915 ],\n",
              "       [ 0.7146743 ],\n",
              "       [ 0.32349163],\n",
              "       [-3.0576801 ],\n",
              "       [-1.3750827 ],\n",
              "       [-0.2354241 ],\n",
              "       [-2.1308463 ],\n",
              "       [ 1.7092798 ],\n",
              "       [-1.5836644 ],\n",
              "       [-0.84622097]], dtype=float32)"
            ]
          },
          "metadata": {
            "tags": []
          },
          "execution_count": 71
        }
      ]
    },
    {
      "cell_type": "code",
      "metadata": {
        "id": "CCsU6OoBpAqa"
      },
      "source": [
        "W,b = model.weight.data.numpy(),model.bias.data.numpy()"
      ],
      "execution_count": 72,
      "outputs": []
    },
    {
      "cell_type": "code",
      "metadata": {
        "colab": {
          "base_uri": "https://localhost:8080/"
        },
        "id": "dkVz-9Z-pHlH",
        "outputId": "54091861-cbba-4271-909f-0069e7cf9f0b"
      },
      "source": [
        "W,b"
      ],
      "execution_count": 73,
      "outputs": [
        {
          "output_type": "execute_result",
          "data": {
            "text/plain": [
              "(array([[0.52341676]], dtype=float32), array([-0.51788205], dtype=float32))"
            ]
          },
          "metadata": {
            "tags": []
          },
          "execution_count": 73
        }
      ]
    },
    {
      "cell_type": "code",
      "metadata": {
        "id": "PagpvmItpItJ"
      },
      "source": [
        "df = pd.read_csv('train.csv')"
      ],
      "execution_count": 74,
      "outputs": []
    },
    {
      "cell_type": "code",
      "metadata": {
        "id": "A5TYeRehpzze"
      },
      "source": [
        "df = df.fillna(value=df.mean())"
      ],
      "execution_count": 77,
      "outputs": []
    },
    {
      "cell_type": "code",
      "metadata": {
        "id": "afZyB2mfqLWH"
      },
      "source": [
        "X_train = df.x.values\n",
        "y_train = df.y.values"
      ],
      "execution_count": 79,
      "outputs": []
    },
    {
      "cell_type": "code",
      "metadata": {
        "id": "NgirGA4nqhXJ"
      },
      "source": [
        "X_train = X_train.reshape(X_train.shape[0],1)\n",
        "y_train = y_train.reshape(y_train.shape[0],1)"
      ],
      "execution_count": 81,
      "outputs": []
    },
    {
      "cell_type": "code",
      "metadata": {
        "id": "frmV8qPhrGw5"
      },
      "source": [
        "X_train = torch.from_numpy(X_train.astype(np.float32))\n",
        "y_train = torch.from_numpy(y_train.astype(np.float32))"
      ],
      "execution_count": 82,
      "outputs": []
    },
    {
      "cell_type": "code",
      "metadata": {
        "id": "lB8PER7FqwKl"
      },
      "source": [
        "loss__ = []\n",
        "for e in range(n_epochs):\n",
        "  optim.zero_grad()\n",
        "  output = model(X_train)\n",
        "  loss = criterion(output,y_train)\n",
        "  loss.backward()\n",
        "  print(loss.item())\n",
        "  loss__.append(loss)\n",
        "  optim.step()"
      ],
      "execution_count": null,
      "outputs": []
    }
  ]
}