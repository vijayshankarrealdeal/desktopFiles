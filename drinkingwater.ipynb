{
 "cells": [
  {
   "cell_type": "code",
   "execution_count": 1,
   "id": "c586e122",
   "metadata": {
    "_cell_guid": "b1076dfc-b9ad-4769-8c92-a6c4dae69d19",
    "_uuid": "8f2839f25d086af736a60e9eeb907d3b93b6e0e5",
    "execution": {
     "iopub.execute_input": "2021-08-26T17:02:35.394109Z",
     "iopub.status.busy": "2021-08-26T17:02:35.393437Z",
     "iopub.status.idle": "2021-08-26T17:02:35.414474Z",
     "shell.execute_reply": "2021-08-26T17:02:35.413736Z",
     "shell.execute_reply.started": "2021-08-26T16:57:19.395926Z"
    },
    "papermill": {
     "duration": 0.058079,
     "end_time": "2021-08-26T17:02:35.414640",
     "exception": false,
     "start_time": "2021-08-26T17:02:35.356561",
     "status": "completed"
    },
    "tags": []
   },
   "outputs": [
    {
     "name": "stdout",
     "output_type": "stream",
     "text": [
      "/kaggle/input/water-potability/water_potability.csv\n"
     ]
    }
   ],
   "source": [
    "# This Python 3 environment comes with many helpful analytics libraries installed\n",
    "# It is defined by the kaggle/python Docker image: https://github.com/kaggle/docker-python\n",
    "# For example, here's several helpful packages to load\n",
    "\n",
    "import numpy as np # linear algebra\n",
    "import pandas as pd # data processing, CSV file I/O (e.g. pd.read_csv)\n",
    "\n",
    "# Input data files are available in the read-only \"../input/\" directory\n",
    "# For example, running this (by clicking run or pressing Shift+Enter) will list all files under the input directory\n",
    "\n",
    "import os\n",
    "for dirname, _, filenames in os.walk('/kaggle/input'):\n",
    "    for filename in filenames:\n",
    "        print(os.path.join(dirname, filename))\n",
    "\n",
    "# You can write up to 20GB to the current directory (/kaggle/working/) that gets preserved as output when you create a version using \"Save & Run All\" \n",
    "# You can also write temporary files to /kaggle/temp/, but they won't be saved outside of the current session"
   ]
  },
  {
   "cell_type": "code",
   "execution_count": 2,
   "id": "f7c13c7a",
   "metadata": {
    "execution": {
     "iopub.execute_input": "2021-08-26T17:02:35.475282Z",
     "iopub.status.busy": "2021-08-26T17:02:35.474596Z",
     "iopub.status.idle": "2021-08-26T17:02:35.602803Z",
     "shell.execute_reply": "2021-08-26T17:02:35.603334Z",
     "shell.execute_reply.started": "2021-08-26T16:57:19.408268Z"
    },
    "papermill": {
     "duration": 0.159776,
     "end_time": "2021-08-26T17:02:35.603546",
     "exception": false,
     "start_time": "2021-08-26T17:02:35.443770",
     "status": "completed"
    },
    "tags": []
   },
   "outputs": [],
   "source": [
    "data = pd.read_csv('/kaggle/input/water-potability/water_potability.csv')"
   ]
  },
  {
   "cell_type": "code",
   "execution_count": 3,
   "id": "d8e13bd9",
   "metadata": {
    "execution": {
     "iopub.execute_input": "2021-08-26T17:02:35.666083Z",
     "iopub.status.busy": "2021-08-26T17:02:35.665387Z",
     "iopub.status.idle": "2021-08-26T17:02:35.688724Z",
     "shell.execute_reply": "2021-08-26T17:02:35.689182Z",
     "shell.execute_reply.started": "2021-08-26T16:57:19.436192Z"
    },
    "papermill": {
     "duration": 0.059459,
     "end_time": "2021-08-26T17:02:35.689492",
     "exception": false,
     "start_time": "2021-08-26T17:02:35.630033",
     "status": "completed"
    },
    "tags": []
   },
   "outputs": [
    {
     "data": {
      "text/html": [
       "<div>\n",
       "<style scoped>\n",
       "    .dataframe tbody tr th:only-of-type {\n",
       "        vertical-align: middle;\n",
       "    }\n",
       "\n",
       "    .dataframe tbody tr th {\n",
       "        vertical-align: top;\n",
       "    }\n",
       "\n",
       "    .dataframe thead th {\n",
       "        text-align: right;\n",
       "    }\n",
       "</style>\n",
       "<table border=\"1\" class=\"dataframe\">\n",
       "  <thead>\n",
       "    <tr style=\"text-align: right;\">\n",
       "      <th></th>\n",
       "      <th>ph</th>\n",
       "      <th>Hardness</th>\n",
       "      <th>Solids</th>\n",
       "      <th>Chloramines</th>\n",
       "      <th>Sulfate</th>\n",
       "      <th>Conductivity</th>\n",
       "      <th>Organic_carbon</th>\n",
       "      <th>Trihalomethanes</th>\n",
       "      <th>Turbidity</th>\n",
       "      <th>Potability</th>\n",
       "    </tr>\n",
       "  </thead>\n",
       "  <tbody>\n",
       "    <tr>\n",
       "      <th>0</th>\n",
       "      <td>NaN</td>\n",
       "      <td>204.890455</td>\n",
       "      <td>20791.318981</td>\n",
       "      <td>7.300212</td>\n",
       "      <td>368.516441</td>\n",
       "      <td>564.308654</td>\n",
       "      <td>10.379783</td>\n",
       "      <td>86.990970</td>\n",
       "      <td>2.963135</td>\n",
       "      <td>0</td>\n",
       "    </tr>\n",
       "    <tr>\n",
       "      <th>1</th>\n",
       "      <td>3.716080</td>\n",
       "      <td>129.422921</td>\n",
       "      <td>18630.057858</td>\n",
       "      <td>6.635246</td>\n",
       "      <td>NaN</td>\n",
       "      <td>592.885359</td>\n",
       "      <td>15.180013</td>\n",
       "      <td>56.329076</td>\n",
       "      <td>4.500656</td>\n",
       "      <td>0</td>\n",
       "    </tr>\n",
       "    <tr>\n",
       "      <th>2</th>\n",
       "      <td>8.099124</td>\n",
       "      <td>224.236259</td>\n",
       "      <td>19909.541732</td>\n",
       "      <td>9.275884</td>\n",
       "      <td>NaN</td>\n",
       "      <td>418.606213</td>\n",
       "      <td>16.868637</td>\n",
       "      <td>66.420093</td>\n",
       "      <td>3.055934</td>\n",
       "      <td>0</td>\n",
       "    </tr>\n",
       "    <tr>\n",
       "      <th>3</th>\n",
       "      <td>8.316766</td>\n",
       "      <td>214.373394</td>\n",
       "      <td>22018.417441</td>\n",
       "      <td>8.059332</td>\n",
       "      <td>356.886136</td>\n",
       "      <td>363.266516</td>\n",
       "      <td>18.436524</td>\n",
       "      <td>100.341674</td>\n",
       "      <td>4.628771</td>\n",
       "      <td>0</td>\n",
       "    </tr>\n",
       "    <tr>\n",
       "      <th>4</th>\n",
       "      <td>9.092223</td>\n",
       "      <td>181.101509</td>\n",
       "      <td>17978.986339</td>\n",
       "      <td>6.546600</td>\n",
       "      <td>310.135738</td>\n",
       "      <td>398.410813</td>\n",
       "      <td>11.558279</td>\n",
       "      <td>31.997993</td>\n",
       "      <td>4.075075</td>\n",
       "      <td>0</td>\n",
       "    </tr>\n",
       "  </tbody>\n",
       "</table>\n",
       "</div>"
      ],
      "text/plain": [
       "         ph    Hardness        Solids  Chloramines     Sulfate  Conductivity  \\\n",
       "0       NaN  204.890455  20791.318981     7.300212  368.516441    564.308654   \n",
       "1  3.716080  129.422921  18630.057858     6.635246         NaN    592.885359   \n",
       "2  8.099124  224.236259  19909.541732     9.275884         NaN    418.606213   \n",
       "3  8.316766  214.373394  22018.417441     8.059332  356.886136    363.266516   \n",
       "4  9.092223  181.101509  17978.986339     6.546600  310.135738    398.410813   \n",
       "\n",
       "   Organic_carbon  Trihalomethanes  Turbidity  Potability  \n",
       "0       10.379783        86.990970   2.963135           0  \n",
       "1       15.180013        56.329076   4.500656           0  \n",
       "2       16.868637        66.420093   3.055934           0  \n",
       "3       18.436524       100.341674   4.628771           0  \n",
       "4       11.558279        31.997993   4.075075           0  "
      ]
     },
     "execution_count": 3,
     "metadata": {},
     "output_type": "execute_result"
    }
   ],
   "source": [
    "data.head()"
   ]
  },
  {
   "cell_type": "code",
   "execution_count": 4,
   "id": "fa739a55",
   "metadata": {
    "execution": {
     "iopub.execute_input": "2021-08-26T17:02:35.750707Z",
     "iopub.status.busy": "2021-08-26T17:02:35.750094Z",
     "iopub.status.idle": "2021-08-26T17:02:35.755141Z",
     "shell.execute_reply": "2021-08-26T17:02:35.755583Z",
     "shell.execute_reply.started": "2021-08-26T16:57:19.458673Z"
    },
    "papermill": {
     "duration": 0.037341,
     "end_time": "2021-08-26T17:02:35.755766",
     "exception": false,
     "start_time": "2021-08-26T17:02:35.718425",
     "status": "completed"
    },
    "tags": []
   },
   "outputs": [
    {
     "data": {
      "text/plain": [
       "ph                 491\n",
       "Hardness             0\n",
       "Solids               0\n",
       "Chloramines          0\n",
       "Sulfate            781\n",
       "Conductivity         0\n",
       "Organic_carbon       0\n",
       "Trihalomethanes    162\n",
       "Turbidity            0\n",
       "Potability           0\n",
       "dtype: int64"
      ]
     },
     "execution_count": 4,
     "metadata": {},
     "output_type": "execute_result"
    }
   ],
   "source": [
    "data.isnull().sum()"
   ]
  },
  {
   "cell_type": "markdown",
   "id": "b9840769",
   "metadata": {
    "papermill": {
     "duration": 0.027127,
     "end_time": "2021-08-26T17:02:35.810243",
     "exception": false,
     "start_time": "2021-08-26T17:02:35.783116",
     "status": "completed"
    },
    "tags": []
   },
   "source": [
    "*We can see that the  Sulfate , Trihalomethanes and ph have some null value.*"
   ]
  },
  {
   "cell_type": "markdown",
   "id": "ef04af47",
   "metadata": {
    "papermill": {
     "duration": 0.027038,
     "end_time": "2021-08-26T17:02:35.864795",
     "exception": false,
     "start_time": "2021-08-26T17:02:35.837757",
     "status": "completed"
    },
    "tags": []
   },
   "source": [
    "We Can Use **Mean** values to fill all null values , or we can use **K Nearest Neighbor** to fill the NULL values."
   ]
  },
  {
   "cell_type": "code",
   "execution_count": 5,
   "id": "27afd7e6",
   "metadata": {
    "execution": {
     "iopub.execute_input": "2021-08-26T17:02:35.923239Z",
     "iopub.status.busy": "2021-08-26T17:02:35.922653Z",
     "iopub.status.idle": "2021-08-26T17:02:35.926727Z",
     "shell.execute_reply": "2021-08-26T17:02:35.926162Z",
     "shell.execute_reply.started": "2021-08-26T16:57:19.479869Z"
    },
    "papermill": {
     "duration": 0.03462,
     "end_time": "2021-08-26T17:02:35.926867",
     "exception": false,
     "start_time": "2021-08-26T17:02:35.892247",
     "status": "completed"
    },
    "tags": []
   },
   "outputs": [],
   "source": [
    "data_copy = data"
   ]
  },
  {
   "cell_type": "code",
   "execution_count": 6,
   "id": "ec908276",
   "metadata": {
    "execution": {
     "iopub.execute_input": "2021-08-26T17:02:35.986378Z",
     "iopub.status.busy": "2021-08-26T17:02:35.985668Z",
     "iopub.status.idle": "2021-08-26T17:02:35.993973Z",
     "shell.execute_reply": "2021-08-26T17:02:35.993479Z",
     "shell.execute_reply.started": "2021-08-26T16:57:19.488666Z"
    },
    "papermill": {
     "duration": 0.039702,
     "end_time": "2021-08-26T17:02:35.994104",
     "exception": false,
     "start_time": "2021-08-26T17:02:35.954402",
     "status": "completed"
    },
    "tags": []
   },
   "outputs": [],
   "source": [
    "data_copy = data_copy.fillna(data_copy.mean())"
   ]
  },
  {
   "cell_type": "code",
   "execution_count": 7,
   "id": "616d65a8",
   "metadata": {
    "execution": {
     "iopub.execute_input": "2021-08-26T17:02:36.056767Z",
     "iopub.status.busy": "2021-08-26T17:02:36.056146Z",
     "iopub.status.idle": "2021-08-26T17:02:36.058809Z",
     "shell.execute_reply": "2021-08-26T17:02:36.059334Z",
     "shell.execute_reply.started": "2021-08-26T16:57:19.507151Z"
    },
    "papermill": {
     "duration": 0.038114,
     "end_time": "2021-08-26T17:02:36.059531",
     "exception": false,
     "start_time": "2021-08-26T17:02:36.021417",
     "status": "completed"
    },
    "tags": []
   },
   "outputs": [
    {
     "data": {
      "text/plain": [
       "ph                 0\n",
       "Hardness           0\n",
       "Solids             0\n",
       "Chloramines        0\n",
       "Sulfate            0\n",
       "Conductivity       0\n",
       "Organic_carbon     0\n",
       "Trihalomethanes    0\n",
       "Turbidity          0\n",
       "Potability         0\n",
       "dtype: int64"
      ]
     },
     "execution_count": 7,
     "metadata": {},
     "output_type": "execute_result"
    }
   ],
   "source": [
    "data_copy.isnull().sum()"
   ]
  },
  {
   "cell_type": "code",
   "execution_count": 8,
   "id": "50add06b",
   "metadata": {
    "execution": {
     "iopub.execute_input": "2021-08-26T17:02:36.119503Z",
     "iopub.status.busy": "2021-08-26T17:02:36.118845Z",
     "iopub.status.idle": "2021-08-26T17:02:36.942015Z",
     "shell.execute_reply": "2021-08-26T17:02:36.941382Z",
     "shell.execute_reply.started": "2021-08-26T16:57:19.523898Z"
    },
    "papermill": {
     "duration": 0.854951,
     "end_time": "2021-08-26T17:02:36.942151",
     "exception": false,
     "start_time": "2021-08-26T17:02:36.087200",
     "status": "completed"
    },
    "tags": []
   },
   "outputs": [],
   "source": [
    "import seaborn as sns\n",
    "import matplotlib.pyplot as plt"
   ]
  },
  {
   "cell_type": "code",
   "execution_count": 9,
   "id": "a708c455",
   "metadata": {
    "execution": {
     "iopub.execute_input": "2021-08-26T17:02:37.005561Z",
     "iopub.status.busy": "2021-08-26T17:02:37.004638Z",
     "iopub.status.idle": "2021-08-26T17:02:37.354269Z",
     "shell.execute_reply": "2021-08-26T17:02:37.354752Z",
     "shell.execute_reply.started": "2021-08-26T16:57:19.533782Z"
    },
    "papermill": {
     "duration": 0.38457,
     "end_time": "2021-08-26T17:02:37.354930",
     "exception": false,
     "start_time": "2021-08-26T17:02:36.970360",
     "status": "completed"
    },
    "tags": []
   },
   "outputs": [
    {
     "data": {
      "text/plain": [
       "<AxesSubplot:xlabel='ph', ylabel='Count'>"
      ]
     },
     "execution_count": 9,
     "metadata": {},
     "output_type": "execute_result"
    },
    {
     "data": {
      "image/png": "[encoded data removed]",
      "text/plain": [
       "<Figure size 432x288 with 1 Axes>"
      ]
     },
     "metadata": {
      "needs_background": "light"
     },
     "output_type": "display_data"
    }
   ],
   "source": [
    "sns.histplot(data_copy.ph,color = 'red')"
   ]
  },
  {
   "cell_type": "code",
   "execution_count": 10,
   "id": "1444ac65",
   "metadata": {
    "execution": {
     "iopub.execute_input": "2021-08-26T17:02:37.414794Z",
     "iopub.status.busy": "2021-08-26T17:02:37.413884Z",
     "iopub.status.idle": "2021-08-26T17:02:37.672475Z",
     "shell.execute_reply": "2021-08-26T17:02:37.672934Z",
     "shell.execute_reply.started": "2021-08-26T16:57:19.890933Z"
    },
    "papermill": {
     "duration": 0.289926,
     "end_time": "2021-08-26T17:02:37.673099",
     "exception": false,
     "start_time": "2021-08-26T17:02:37.383173",
     "status": "completed"
    },
    "tags": []
   },
   "outputs": [
    {
     "data": {
      "text/plain": [
       "<AxesSubplot:xlabel='Hardness', ylabel='Count'>"
      ]
     },
     "execution_count": 10,
     "metadata": {},
     "output_type": "execute_result"
    },
    {
     "data": {
      "image/png": "[encoded data removed]",
      "text/plain": [
       "<Figure size 432x288 with 1 Axes>"
      ]
     },
     "metadata": {
      "needs_background": "light"
     },
     "output_type": "display_data"
    }
   ],
   "source": [
    "sns.histplot(data_copy.Hardness)"
   ]
  },
  {
   "cell_type": "code",
   "execution_count": 11,
   "id": "22545c1b",
   "metadata": {
    "execution": {
     "iopub.execute_input": "2021-08-26T17:02:37.735129Z",
     "iopub.status.busy": "2021-08-26T17:02:37.734230Z",
     "iopub.status.idle": "2021-08-26T17:02:37.740150Z",
     "shell.execute_reply": "2021-08-26T17:02:37.740597Z",
     "shell.execute_reply.started": "2021-08-26T16:57:20.194806Z"
    },
    "papermill": {
     "duration": 0.038322,
     "end_time": "2021-08-26T17:02:37.740764",
     "exception": false,
     "start_time": "2021-08-26T17:02:37.702442",
     "status": "completed"
    },
    "tags": []
   },
   "outputs": [
    {
     "data": {
      "text/plain": [
       "(0, 1)"
      ]
     },
     "execution_count": 11,
     "metadata": {},
     "output_type": "execute_result"
    }
   ],
   "source": [
    "y = data_copy.Potability\n",
    "min(y),max(y)"
   ]
  },
  {
   "cell_type": "code",
   "execution_count": 12,
   "id": "a4ce2fed",
   "metadata": {
    "execution": {
     "iopub.execute_input": "2021-08-26T17:02:37.802476Z",
     "iopub.status.busy": "2021-08-26T17:02:37.801559Z",
     "iopub.status.idle": "2021-08-26T17:02:37.806640Z",
     "shell.execute_reply": "2021-08-26T17:02:37.807047Z",
     "shell.execute_reply.started": "2021-08-26T16:57:20.206594Z"
    },
    "papermill": {
     "duration": 0.037457,
     "end_time": "2021-08-26T17:02:37.807213",
     "exception": false,
     "start_time": "2021-08-26T17:02:37.769756",
     "status": "completed"
    },
    "tags": []
   },
   "outputs": [],
   "source": [
    "data_copy.drop('Potability' ,axis = 1,inplace = True)"
   ]
  },
  {
   "cell_type": "code",
   "execution_count": 13,
   "id": "45d1f8d9",
   "metadata": {
    "execution": {
     "iopub.execute_input": "2021-08-26T17:02:37.868631Z",
     "iopub.status.busy": "2021-08-26T17:02:37.868060Z",
     "iopub.status.idle": "2021-08-26T17:02:38.577464Z",
     "shell.execute_reply": "2021-08-26T17:02:38.577992Z",
     "shell.execute_reply.started": "2021-08-26T16:57:20.218865Z"
    },
    "papermill": {
     "duration": 0.741623,
     "end_time": "2021-08-26T17:02:38.578223",
     "exception": false,
     "start_time": "2021-08-26T17:02:37.836600",
     "status": "completed"
    },
    "tags": []
   },
   "outputs": [
    {
     "data": {
      "text/plain": [
       "<AxesSubplot:>"
      ]
     },
     "execution_count": 13,
     "metadata": {},
     "output_type": "execute_result"
    },
    {
     "data": {
      "image/png": "[encoded data removed]",
      "text/plain": [
       "<Figure size 1080x720 with 2 Axes>"
      ]
     },
     "metadata": {
      "needs_background": "light"
     },
     "output_type": "display_data"
    }
   ],
   "source": [
    "plt.figure(figsize = (15,10))\n",
    "sns.heatmap(data_copy.corr(),annot = True)"
   ]
  },
  {
   "cell_type": "markdown",
   "id": "a55f556a",
   "metadata": {
    "papermill": {
     "duration": 0.048765,
     "end_time": "2021-08-26T17:02:38.678957",
     "exception": false,
     "start_time": "2021-08-26T17:02:38.630192",
     "status": "completed"
    },
    "tags": []
   },
   "source": [
    "\n"
   ]
  },
  {
   "cell_type": "code",
   "execution_count": 14,
   "id": "7edbb021",
   "metadata": {
    "execution": {
     "iopub.execute_input": "2021-08-26T17:02:38.747122Z",
     "iopub.status.busy": "2021-08-26T17:02:38.746236Z",
     "iopub.status.idle": "2021-08-26T17:02:38.750203Z",
     "shell.execute_reply": "2021-08-26T17:02:38.749663Z",
     "shell.execute_reply.started": "2021-08-26T16:57:21.138231Z"
    },
    "papermill": {
     "duration": 0.039758,
     "end_time": "2021-08-26T17:02:38.750332",
     "exception": false,
     "start_time": "2021-08-26T17:02:38.710574",
     "status": "completed"
    },
    "tags": []
   },
   "outputs": [
    {
     "data": {
      "text/plain": [
       "3276"
      ]
     },
     "execution_count": 14,
     "metadata": {},
     "output_type": "execute_result"
    }
   ],
   "source": [
    "len(data_copy)"
   ]
  },
  {
   "cell_type": "code",
   "execution_count": 15,
   "id": "9a4d937d",
   "metadata": {
    "execution": {
     "iopub.execute_input": "2021-08-26T17:02:38.819515Z",
     "iopub.status.busy": "2021-08-26T17:02:38.818935Z",
     "iopub.status.idle": "2021-08-26T17:02:39.046034Z",
     "shell.execute_reply": "2021-08-26T17:02:39.045390Z",
     "shell.execute_reply.started": "2021-08-26T16:57:21.147677Z"
    },
    "papermill": {
     "duration": 0.263025,
     "end_time": "2021-08-26T17:02:39.046172",
     "exception": false,
     "start_time": "2021-08-26T17:02:38.783147",
     "status": "completed"
    },
    "tags": []
   },
   "outputs": [],
   "source": [
    "from sklearn.preprocessing import StandardScaler\n",
    "scaler = StandardScaler()\n",
    "data_copy = scaler.fit_transform(data_copy)"
   ]
  },
  {
   "cell_type": "code",
   "execution_count": 16,
   "id": "e59745e8",
   "metadata": {
    "execution": {
     "iopub.execute_input": "2021-08-26T17:02:39.115339Z",
     "iopub.status.busy": "2021-08-26T17:02:39.114738Z",
     "iopub.status.idle": "2021-08-26T17:02:39.167221Z",
     "shell.execute_reply": "2021-08-26T17:02:39.166686Z",
     "shell.execute_reply.started": "2021-08-26T16:57:21.167417Z"
    },
    "papermill": {
     "duration": 0.089007,
     "end_time": "2021-08-26T17:02:39.167374",
     "exception": false,
     "start_time": "2021-08-26T17:02:39.078367",
     "status": "completed"
    },
    "tags": []
   },
   "outputs": [],
   "source": [
    "from sklearn.model_selection import train_test_split\n",
    "x_train,x_test,y_train,y_test = train_test_split(data_copy,y.values,test_size = 0.2,random_state = 42)"
   ]
  },
  {
   "cell_type": "code",
   "execution_count": 17,
   "id": "4ca9281d",
   "metadata": {
    "execution": {
     "iopub.execute_input": "2021-08-26T17:02:39.236843Z",
     "iopub.status.busy": "2021-08-26T17:02:39.236194Z",
     "iopub.status.idle": "2021-08-26T17:02:39.240180Z",
     "shell.execute_reply": "2021-08-26T17:02:39.239748Z",
     "shell.execute_reply.started": "2021-08-26T16:57:21.178825Z"
    },
    "papermill": {
     "duration": 0.040746,
     "end_time": "2021-08-26T17:02:39.240314",
     "exception": false,
     "start_time": "2021-08-26T17:02:39.199568",
     "status": "completed"
    },
    "tags": []
   },
   "outputs": [
    {
     "data": {
      "text/plain": [
       "4.7078020868001635"
      ]
     },
     "execution_count": 17,
     "metadata": {},
     "output_type": "execute_result"
    }
   ],
   "source": [
    "np.max(x_train)"
   ]
  },
  {
   "cell_type": "code",
   "execution_count": 18,
   "id": "82bec996",
   "metadata": {
    "execution": {
     "iopub.execute_input": "2021-08-26T17:02:39.308433Z",
     "iopub.status.busy": "2021-08-26T17:02:39.307728Z",
     "iopub.status.idle": "2021-08-26T17:02:39.384139Z",
     "shell.execute_reply": "2021-08-26T17:02:39.383604Z",
     "shell.execute_reply.started": "2021-08-26T16:57:21.193595Z"
    },
    "papermill": {
     "duration": 0.111921,
     "end_time": "2021-08-26T17:02:39.384274",
     "exception": false,
     "start_time": "2021-08-26T17:02:39.272353",
     "status": "completed"
    },
    "tags": []
   },
   "outputs": [],
   "source": [
    "from sklearn.svm import SVC\n",
    "classifier = SVC()"
   ]
  },
  {
   "cell_type": "code",
   "execution_count": 19,
   "id": "54034ef3",
   "metadata": {
    "execution": {
     "iopub.execute_input": "2021-08-26T17:02:39.452988Z",
     "iopub.status.busy": "2021-08-26T17:02:39.452324Z",
     "iopub.status.idle": "2021-08-26T17:02:39.458407Z",
     "shell.execute_reply": "2021-08-26T17:02:39.457924Z",
     "shell.execute_reply.started": "2021-08-26T16:57:21.208351Z"
    },
    "papermill": {
     "duration": 0.042145,
     "end_time": "2021-08-26T17:02:39.458558",
     "exception": false,
     "start_time": "2021-08-26T17:02:39.416413",
     "status": "completed"
    },
    "tags": []
   },
   "outputs": [],
   "source": [
    "from sklearn.naive_bayes import GaussianNB\n",
    "classifier2 = GaussianNB()"
   ]
  },
  {
   "cell_type": "code",
   "execution_count": 20,
   "id": "0b2d4ee8",
   "metadata": {
    "execution": {
     "iopub.execute_input": "2021-08-26T17:02:39.539500Z",
     "iopub.status.busy": "2021-08-26T17:02:39.538614Z",
     "iopub.status.idle": "2021-08-26T17:02:39.650967Z",
     "shell.execute_reply": "2021-08-26T17:02:39.650302Z",
     "shell.execute_reply.started": "2021-08-26T16:57:21.224395Z"
    },
    "papermill": {
     "duration": 0.160785,
     "end_time": "2021-08-26T17:02:39.651128",
     "exception": false,
     "start_time": "2021-08-26T17:02:39.490343",
     "status": "completed"
    },
    "tags": []
   },
   "outputs": [],
   "source": [
    "from sklearn.ensemble import RandomForestClassifier\n",
    "classifier3 = RandomForestClassifier()"
   ]
  },
  {
   "cell_type": "code",
   "execution_count": 21,
   "id": "2fc241f2",
   "metadata": {
    "execution": {
     "iopub.execute_input": "2021-08-26T17:02:39.720411Z",
     "iopub.status.busy": "2021-08-26T17:02:39.719508Z",
     "iopub.status.idle": "2021-08-26T17:02:40.959998Z",
     "shell.execute_reply": "2021-08-26T17:02:40.959521Z",
     "shell.execute_reply.started": "2021-08-26T16:57:21.238073Z"
    },
    "papermill": {
     "duration": 1.276404,
     "end_time": "2021-08-26T17:02:40.960151",
     "exception": false,
     "start_time": "2021-08-26T17:02:39.683747",
     "status": "completed"
    },
    "tags": []
   },
   "outputs": [
    {
     "data": {
      "text/plain": [
       "RandomForestClassifier()"
      ]
     },
     "execution_count": 21,
     "metadata": {},
     "output_type": "execute_result"
    }
   ],
   "source": [
    "classifier.fit(x_train,y_train)\n",
    "classifier2.fit(x_train,y_train)\n",
    "classifier3.fit(x_train,y_train)"
   ]
  },
  {
   "cell_type": "code",
   "execution_count": 22,
   "id": "7d7d56b3",
   "metadata": {
    "execution": {
     "iopub.execute_input": "2021-08-26T17:02:41.029574Z",
     "iopub.status.busy": "2021-08-26T17:02:41.028906Z",
     "iopub.status.idle": "2021-08-26T17:02:41.099105Z",
     "shell.execute_reply": "2021-08-26T17:02:41.098409Z",
     "shell.execute_reply.started": "2021-08-26T16:57:22.578110Z"
    },
    "papermill": {
     "duration": 0.10685,
     "end_time": "2021-08-26T17:02:41.099240",
     "exception": false,
     "start_time": "2021-08-26T17:02:40.992390",
     "status": "completed"
    },
    "tags": []
   },
   "outputs": [],
   "source": [
    "predict = classifier.predict(x_test)\n",
    "predict2 = classifier2.predict(x_test)\n",
    "predict3 = classifier3.predict(x_test)"
   ]
  },
  {
   "cell_type": "code",
   "execution_count": 23,
   "id": "7543e514",
   "metadata": {
    "execution": {
     "iopub.execute_input": "2021-08-26T17:02:41.168924Z",
     "iopub.status.busy": "2021-08-26T17:02:41.168181Z",
     "iopub.status.idle": "2021-08-26T17:02:41.173619Z",
     "shell.execute_reply": "2021-08-26T17:02:41.173114Z",
     "shell.execute_reply.started": "2021-08-26T16:57:22.662428Z"
    },
    "papermill": {
     "duration": 0.04237,
     "end_time": "2021-08-26T17:02:41.173751",
     "exception": false,
     "start_time": "2021-08-26T17:02:41.131381",
     "status": "completed"
    },
    "tags": []
   },
   "outputs": [],
   "source": [
    "from sklearn.metrics import confusion_matrix\n",
    "cm = confusion_matrix(y_test,predict)"
   ]
  },
  {
   "cell_type": "code",
   "execution_count": 24,
   "id": "5139d9ed",
   "metadata": {
    "execution": {
     "iopub.execute_input": "2021-08-26T17:02:41.243662Z",
     "iopub.status.busy": "2021-08-26T17:02:41.242948Z",
     "iopub.status.idle": "2021-08-26T17:02:41.247559Z",
     "shell.execute_reply": "2021-08-26T17:02:41.247081Z",
     "shell.execute_reply.started": "2021-08-26T16:57:22.673803Z"
    },
    "papermill": {
     "duration": 0.04157,
     "end_time": "2021-08-26T17:02:41.247698",
     "exception": false,
     "start_time": "2021-08-26T17:02:41.206128",
     "status": "completed"
    },
    "tags": []
   },
   "outputs": [],
   "source": [
    "cm2 = confusion_matrix(y_test,predict)"
   ]
  },
  {
   "cell_type": "code",
   "execution_count": 25,
   "id": "064412f3",
   "metadata": {
    "execution": {
     "iopub.execute_input": "2021-08-26T17:02:41.317211Z",
     "iopub.status.busy": "2021-08-26T17:02:41.316624Z",
     "iopub.status.idle": "2021-08-26T17:02:41.320816Z",
     "shell.execute_reply": "2021-08-26T17:02:41.321339Z",
     "shell.execute_reply.started": "2021-08-26T16:57:22.687809Z"
    },
    "papermill": {
     "duration": 0.041486,
     "end_time": "2021-08-26T17:02:41.321523",
     "exception": false,
     "start_time": "2021-08-26T17:02:41.280037",
     "status": "completed"
    },
    "tags": []
   },
   "outputs": [
    {
     "data": {
      "text/plain": [
       "69.51219512195121"
      ]
     },
     "execution_count": 25,
     "metadata": {},
     "output_type": "execute_result"
    }
   ],
   "source": [
    "from sklearn.metrics import accuracy_score\n",
    "accuracy_score(y_test, predict)*100"
   ]
  },
  {
   "cell_type": "code",
   "execution_count": 26,
   "id": "82e4cbef",
   "metadata": {
    "execution": {
     "iopub.execute_input": "2021-08-26T17:02:41.389051Z",
     "iopub.status.busy": "2021-08-26T17:02:41.388497Z",
     "iopub.status.idle": "2021-08-26T17:02:41.393473Z",
     "shell.execute_reply": "2021-08-26T17:02:41.393907Z",
     "shell.execute_reply.started": "2021-08-26T16:57:22.706790Z"
    },
    "papermill": {
     "duration": 0.040126,
     "end_time": "2021-08-26T17:02:41.394063",
     "exception": false,
     "start_time": "2021-08-26T17:02:41.353937",
     "status": "completed"
    },
    "tags": []
   },
   "outputs": [
    {
     "data": {
      "text/plain": [
       "63.109756097560975"
      ]
     },
     "execution_count": 26,
     "metadata": {},
     "output_type": "execute_result"
    }
   ],
   "source": [
    "accuracy_score(y_test, predict2)*100"
   ]
  },
  {
   "cell_type": "code",
   "execution_count": 27,
   "id": "c9a8bc89",
   "metadata": {
    "execution": {
     "iopub.execute_input": "2021-08-26T17:02:41.464479Z",
     "iopub.status.busy": "2021-08-26T17:02:41.463273Z",
     "iopub.status.idle": "2021-08-26T17:02:41.467088Z",
     "shell.execute_reply": "2021-08-26T17:02:41.467638Z",
     "shell.execute_reply.started": "2021-08-26T16:57:22.719687Z"
    },
    "papermill": {
     "duration": 0.041107,
     "end_time": "2021-08-26T17:02:41.467794",
     "exception": false,
     "start_time": "2021-08-26T17:02:41.426687",
     "status": "completed"
    },
    "tags": []
   },
   "outputs": [
    {
     "data": {
      "text/plain": [
       "68.4451219512195"
      ]
     },
     "execution_count": 27,
     "metadata": {},
     "output_type": "execute_result"
    }
   ],
   "source": [
    "accuracy_score(y_test, predict3)*100"
   ]
  },
  {
   "cell_type": "markdown",
   "id": "67831ff1",
   "metadata": {
    "papermill": {
     "duration": 0.032335,
     "end_time": "2021-08-26T17:02:41.532949",
     "exception": false,
     "start_time": "2021-08-26T17:02:41.500614",
     "status": "completed"
    },
    "tags": []
   },
   "source": [
    "# **Using K nearest neighbor**\n",
    "To fill missing data"
   ]
  },
  {
   "cell_type": "code",
   "execution_count": 28,
   "id": "dfcfed75",
   "metadata": {
    "execution": {
     "iopub.execute_input": "2021-08-26T17:02:41.601430Z",
     "iopub.status.busy": "2021-08-26T17:02:41.600850Z",
     "iopub.status.idle": "2021-08-26T17:02:41.611176Z",
     "shell.execute_reply": "2021-08-26T17:02:41.610047Z",
     "shell.execute_reply.started": "2021-08-26T16:57:22.739895Z"
    },
    "papermill": {
     "duration": 0.045717,
     "end_time": "2021-08-26T17:02:41.611320",
     "exception": false,
     "start_time": "2021-08-26T17:02:41.565603",
     "status": "completed"
    },
    "tags": []
   },
   "outputs": [],
   "source": [
    "from sklearn.impute import KNNImputer"
   ]
  },
  {
   "cell_type": "code",
   "execution_count": 29,
   "id": "7d11283d",
   "metadata": {
    "execution": {
     "iopub.execute_input": "2021-08-26T17:02:41.683859Z",
     "iopub.status.busy": "2021-08-26T17:02:41.683269Z",
     "iopub.status.idle": "2021-08-26T17:02:41.685775Z",
     "shell.execute_reply": "2021-08-26T17:02:41.685203Z",
     "shell.execute_reply.started": "2021-08-26T16:57:22.749650Z"
    },
    "papermill": {
     "duration": 0.041149,
     "end_time": "2021-08-26T17:02:41.685906",
     "exception": false,
     "start_time": "2021-08-26T17:02:41.644757",
     "status": "completed"
    },
    "tags": []
   },
   "outputs": [],
   "source": [
    "y_m = data.Potability\n",
    "data.drop('Potability',axis = 1,inplace = True)"
   ]
  },
  {
   "cell_type": "code",
   "execution_count": 30,
   "id": "166e3a37",
   "metadata": {
    "execution": {
     "iopub.execute_input": "2021-08-26T17:02:41.754679Z",
     "iopub.status.busy": "2021-08-26T17:02:41.754089Z",
     "iopub.status.idle": "2021-08-26T17:02:41.757976Z",
     "shell.execute_reply": "2021-08-26T17:02:41.757509Z",
     "shell.execute_reply.started": "2021-08-26T16:57:22.764583Z"
    },
    "papermill": {
     "duration": 0.039206,
     "end_time": "2021-08-26T17:02:41.758102",
     "exception": false,
     "start_time": "2021-08-26T17:02:41.718896",
     "status": "completed"
    },
    "tags": []
   },
   "outputs": [],
   "source": [
    "cols = data.columns"
   ]
  },
  {
   "cell_type": "code",
   "execution_count": 31,
   "id": "d0d19a24",
   "metadata": {
    "execution": {
     "iopub.execute_input": "2021-08-26T17:02:41.829358Z",
     "iopub.status.busy": "2021-08-26T17:02:41.828761Z",
     "iopub.status.idle": "2021-08-26T17:02:41.831588Z",
     "shell.execute_reply": "2021-08-26T17:02:41.831037Z",
     "shell.execute_reply.started": "2021-08-26T16:57:22.778349Z"
    },
    "papermill": {
     "duration": 0.040492,
     "end_time": "2021-08-26T17:02:41.831726",
     "exception": false,
     "start_time": "2021-08-26T17:02:41.791234",
     "status": "completed"
    },
    "tags": []
   },
   "outputs": [],
   "source": [
    "def fill_na(col):\n",
    "    imputer = KNNImputer(n_neighbors=10)\n",
    "    da = imputer.fit_transform(data[col].values.reshape(-1,1))\n",
    "    da = da.squeeze()\n",
    "    return da"
   ]
  },
  {
   "cell_type": "code",
   "execution_count": 32,
   "id": "4a85b58d",
   "metadata": {
    "execution": {
     "iopub.execute_input": "2021-08-26T17:02:41.901544Z",
     "iopub.status.busy": "2021-08-26T17:02:41.900964Z",
     "iopub.status.idle": "2021-08-26T17:02:42.221632Z",
     "shell.execute_reply": "2021-08-26T17:02:42.222462Z",
     "shell.execute_reply.started": "2021-08-26T16:57:22.793261Z"
    },
    "papermill": {
     "duration": 0.357104,
     "end_time": "2021-08-26T17:02:42.222740",
     "exception": false,
     "start_time": "2021-08-26T17:02:41.865636",
     "status": "completed"
    },
    "tags": []
   },
   "outputs": [],
   "source": [
    "for col in data.columns:\n",
    "    data[col] = fill_na(col)"
   ]
  },
  {
   "cell_type": "code",
   "execution_count": 33,
   "id": "70aa5852",
   "metadata": {
    "execution": {
     "iopub.execute_input": "2021-08-26T17:02:42.347903Z",
     "iopub.status.busy": "2021-08-26T17:02:42.347289Z",
     "iopub.status.idle": "2021-08-26T17:02:42.351389Z",
     "shell.execute_reply": "2021-08-26T17:02:42.350911Z",
     "shell.execute_reply.started": "2021-08-26T16:57:23.154068Z"
    },
    "papermill": {
     "duration": 0.065431,
     "end_time": "2021-08-26T17:02:42.351539",
     "exception": false,
     "start_time": "2021-08-26T17:02:42.286108",
     "status": "completed"
    },
    "tags": []
   },
   "outputs": [
    {
     "data": {
      "text/html": [
       "<div>\n",
       "<style scoped>\n",
       "    .dataframe tbody tr th:only-of-type {\n",
       "        vertical-align: middle;\n",
       "    }\n",
       "\n",
       "    .dataframe tbody tr th {\n",
       "        vertical-align: top;\n",
       "    }\n",
       "\n",
       "    .dataframe thead th {\n",
       "        text-align: right;\n",
       "    }\n",
       "</style>\n",
       "<table border=\"1\" class=\"dataframe\">\n",
       "  <thead>\n",
       "    <tr style=\"text-align: right;\">\n",
       "      <th></th>\n",
       "      <th>ph</th>\n",
       "      <th>Hardness</th>\n",
       "      <th>Solids</th>\n",
       "      <th>Chloramines</th>\n",
       "      <th>Sulfate</th>\n",
       "      <th>Conductivity</th>\n",
       "      <th>Organic_carbon</th>\n",
       "      <th>Trihalomethanes</th>\n",
       "      <th>Turbidity</th>\n",
       "    </tr>\n",
       "  </thead>\n",
       "  <tbody>\n",
       "    <tr>\n",
       "      <th>0</th>\n",
       "      <td>7.080795</td>\n",
       "      <td>204.890455</td>\n",
       "      <td>20791.318981</td>\n",
       "      <td>7.300212</td>\n",
       "      <td>368.516441</td>\n",
       "      <td>564.308654</td>\n",
       "      <td>10.379783</td>\n",
       "      <td>86.990970</td>\n",
       "      <td>2.963135</td>\n",
       "    </tr>\n",
       "    <tr>\n",
       "      <th>1</th>\n",
       "      <td>3.716080</td>\n",
       "      <td>129.422921</td>\n",
       "      <td>18630.057858</td>\n",
       "      <td>6.635246</td>\n",
       "      <td>333.775777</td>\n",
       "      <td>592.885359</td>\n",
       "      <td>15.180013</td>\n",
       "      <td>56.329076</td>\n",
       "      <td>4.500656</td>\n",
       "    </tr>\n",
       "    <tr>\n",
       "      <th>2</th>\n",
       "      <td>8.099124</td>\n",
       "      <td>224.236259</td>\n",
       "      <td>19909.541732</td>\n",
       "      <td>9.275884</td>\n",
       "      <td>333.775777</td>\n",
       "      <td>418.606213</td>\n",
       "      <td>16.868637</td>\n",
       "      <td>66.420093</td>\n",
       "      <td>3.055934</td>\n",
       "    </tr>\n",
       "    <tr>\n",
       "      <th>3</th>\n",
       "      <td>8.316766</td>\n",
       "      <td>214.373394</td>\n",
       "      <td>22018.417441</td>\n",
       "      <td>8.059332</td>\n",
       "      <td>356.886136</td>\n",
       "      <td>363.266516</td>\n",
       "      <td>18.436524</td>\n",
       "      <td>100.341674</td>\n",
       "      <td>4.628771</td>\n",
       "    </tr>\n",
       "    <tr>\n",
       "      <th>4</th>\n",
       "      <td>9.092223</td>\n",
       "      <td>181.101509</td>\n",
       "      <td>17978.986339</td>\n",
       "      <td>6.546600</td>\n",
       "      <td>310.135738</td>\n",
       "      <td>398.410813</td>\n",
       "      <td>11.558279</td>\n",
       "      <td>31.997993</td>\n",
       "      <td>4.075075</td>\n",
       "    </tr>\n",
       "    <tr>\n",
       "      <th>...</th>\n",
       "      <td>...</td>\n",
       "      <td>...</td>\n",
       "      <td>...</td>\n",
       "      <td>...</td>\n",
       "      <td>...</td>\n",
       "      <td>...</td>\n",
       "      <td>...</td>\n",
       "      <td>...</td>\n",
       "      <td>...</td>\n",
       "    </tr>\n",
       "    <tr>\n",
       "      <th>3271</th>\n",
       "      <td>4.668102</td>\n",
       "      <td>193.681735</td>\n",
       "      <td>47580.991603</td>\n",
       "      <td>7.166639</td>\n",
       "      <td>359.948574</td>\n",
       "      <td>526.424171</td>\n",
       "      <td>13.894419</td>\n",
       "      <td>66.687695</td>\n",
       "      <td>4.435821</td>\n",
       "    </tr>\n",
       "    <tr>\n",
       "      <th>3272</th>\n",
       "      <td>7.808856</td>\n",
       "      <td>193.553212</td>\n",
       "      <td>17329.802160</td>\n",
       "      <td>8.061362</td>\n",
       "      <td>333.775777</td>\n",
       "      <td>392.449580</td>\n",
       "      <td>19.903225</td>\n",
       "      <td>66.396293</td>\n",
       "      <td>2.798243</td>\n",
       "    </tr>\n",
       "    <tr>\n",
       "      <th>3273</th>\n",
       "      <td>9.419510</td>\n",
       "      <td>175.762646</td>\n",
       "      <td>33155.578218</td>\n",
       "      <td>7.350233</td>\n",
       "      <td>333.775777</td>\n",
       "      <td>432.044783</td>\n",
       "      <td>11.039070</td>\n",
       "      <td>69.845400</td>\n",
       "      <td>3.298875</td>\n",
       "    </tr>\n",
       "    <tr>\n",
       "      <th>3274</th>\n",
       "      <td>5.126763</td>\n",
       "      <td>230.603758</td>\n",
       "      <td>11983.869376</td>\n",
       "      <td>6.303357</td>\n",
       "      <td>333.775777</td>\n",
       "      <td>402.883113</td>\n",
       "      <td>11.168946</td>\n",
       "      <td>77.488213</td>\n",
       "      <td>4.708658</td>\n",
       "    </tr>\n",
       "    <tr>\n",
       "      <th>3275</th>\n",
       "      <td>7.874671</td>\n",
       "      <td>195.102299</td>\n",
       "      <td>17404.177061</td>\n",
       "      <td>7.509306</td>\n",
       "      <td>333.775777</td>\n",
       "      <td>327.459760</td>\n",
       "      <td>16.140368</td>\n",
       "      <td>78.698446</td>\n",
       "      <td>2.309149</td>\n",
       "    </tr>\n",
       "  </tbody>\n",
       "</table>\n",
       "<p>3276 rows × 9 columns</p>\n",
       "</div>"
      ],
      "text/plain": [
       "            ph    Hardness        Solids  Chloramines     Sulfate  \\\n",
       "0     7.080795  204.890455  20791.318981     7.300212  368.516441   \n",
       "1     3.716080  129.422921  18630.057858     6.635246  333.775777   \n",
       "2     8.099124  224.236259  19909.541732     9.275884  333.775777   \n",
       "3     8.316766  214.373394  22018.417441     8.059332  356.886136   \n",
       "4     9.092223  181.101509  17978.986339     6.546600  310.135738   \n",
       "...        ...         ...           ...          ...         ...   \n",
       "3271  4.668102  193.681735  47580.991603     7.166639  359.948574   \n",
       "3272  7.808856  193.553212  17329.802160     8.061362  333.775777   \n",
       "3273  9.419510  175.762646  33155.578218     7.350233  333.775777   \n",
       "3274  5.126763  230.603758  11983.869376     6.303357  333.775777   \n",
       "3275  7.874671  195.102299  17404.177061     7.509306  333.775777   \n",
       "\n",
       "      Conductivity  Organic_carbon  Trihalomethanes  Turbidity  \n",
       "0       564.308654       10.379783        86.990970   2.963135  \n",
       "1       592.885359       15.180013        56.329076   4.500656  \n",
       "2       418.606213       16.868637        66.420093   3.055934  \n",
       "3       363.266516       18.436524       100.341674   4.628771  \n",
       "4       398.410813       11.558279        31.997993   4.075075  \n",
       "...            ...             ...              ...        ...  \n",
       "3271    526.424171       13.894419        66.687695   4.435821  \n",
       "3272    392.449580       19.903225        66.396293   2.798243  \n",
       "3273    432.044783       11.039070        69.845400   3.298875  \n",
       "3274    402.883113       11.168946        77.488213   4.708658  \n",
       "3275    327.459760       16.140368        78.698446   2.309149  \n",
       "\n",
       "[3276 rows x 9 columns]"
      ]
     },
     "execution_count": 33,
     "metadata": {},
     "output_type": "execute_result"
    }
   ],
   "source": [
    "data"
   ]
  },
  {
   "cell_type": "code",
   "execution_count": 34,
   "id": "2a18e114",
   "metadata": {
    "execution": {
     "iopub.execute_input": "2021-08-26T17:02:42.426416Z",
     "iopub.status.busy": "2021-08-26T17:02:42.425850Z",
     "iopub.status.idle": "2021-08-26T17:02:42.429588Z",
     "shell.execute_reply": "2021-08-26T17:02:42.430021Z",
     "shell.execute_reply.started": "2021-08-26T16:57:23.207604Z"
    },
    "papermill": {
     "duration": 0.044843,
     "end_time": "2021-08-26T17:02:42.430179",
     "exception": false,
     "start_time": "2021-08-26T17:02:42.385336",
     "status": "completed"
    },
    "tags": []
   },
   "outputs": [
    {
     "data": {
      "text/plain": [
       "ph                 0\n",
       "Hardness           0\n",
       "Solids             0\n",
       "Chloramines        0\n",
       "Sulfate            0\n",
       "Conductivity       0\n",
       "Organic_carbon     0\n",
       "Trihalomethanes    0\n",
       "Turbidity          0\n",
       "dtype: int64"
      ]
     },
     "execution_count": 34,
     "metadata": {},
     "output_type": "execute_result"
    }
   ],
   "source": [
    "data.isnull().sum()"
   ]
  },
  {
   "cell_type": "code",
   "execution_count": 35,
   "id": "7f7cc9ee",
   "metadata": {
    "execution": {
     "iopub.execute_input": "2021-08-26T17:02:42.500522Z",
     "iopub.status.busy": "2021-08-26T17:02:42.499963Z",
     "iopub.status.idle": "2021-08-26T17:02:42.508073Z",
     "shell.execute_reply": "2021-08-26T17:02:42.507608Z",
     "shell.execute_reply.started": "2021-08-26T16:57:23.237341Z"
    },
    "papermill": {
     "duration": 0.044242,
     "end_time": "2021-08-26T17:02:42.508214",
     "exception": false,
     "start_time": "2021-08-26T17:02:42.463972",
     "status": "completed"
    },
    "tags": []
   },
   "outputs": [],
   "source": [
    "data = scaler.fit_transform(data)"
   ]
  },
  {
   "cell_type": "code",
   "execution_count": 36,
   "id": "7bc527d0",
   "metadata": {
    "execution": {
     "iopub.execute_input": "2021-08-26T17:02:42.581884Z",
     "iopub.status.busy": "2021-08-26T17:02:42.581256Z",
     "iopub.status.idle": "2021-08-26T17:02:42.584759Z",
     "shell.execute_reply": "2021-08-26T17:02:42.584264Z",
     "shell.execute_reply.started": "2021-08-26T16:57:23.251560Z"
    },
    "papermill": {
     "duration": 0.042782,
     "end_time": "2021-08-26T17:02:42.584903",
     "exception": false,
     "start_time": "2021-08-26T17:02:42.542121",
     "status": "completed"
    },
    "tags": []
   },
   "outputs": [],
   "source": [
    "from sklearn.model_selection import train_test_split\n",
    "x_train_,x_test_,y_train_,y_test_ = train_test_split(data,y_m.values,test_size = 0.2,random_state = 42)"
   ]
  },
  {
   "cell_type": "code",
   "execution_count": 37,
   "id": "871b4d2b",
   "metadata": {
    "execution": {
     "iopub.execute_input": "2021-08-26T17:02:42.658272Z",
     "iopub.status.busy": "2021-08-26T17:02:42.657715Z",
     "iopub.status.idle": "2021-08-26T17:02:43.899871Z",
     "shell.execute_reply": "2021-08-26T17:02:43.900323Z",
     "shell.execute_reply.started": "2021-08-26T16:57:23.264958Z"
    },
    "papermill": {
     "duration": 1.281626,
     "end_time": "2021-08-26T17:02:43.900531",
     "exception": false,
     "start_time": "2021-08-26T17:02:42.618905",
     "status": "completed"
    },
    "tags": []
   },
   "outputs": [],
   "source": [
    "classifier.fit(x_train_,y_train_)\n",
    "classifier2.fit(x_train_,y_train_)\n",
    "classifier3.fit(x_train_,y_train_)\n",
    "predict_ = classifier.predict(x_test_)\n",
    "predict2_ = classifier2.predict(x_test_)\n",
    "predict3_ = classifier3.predict(x_test_)"
   ]
  },
  {
   "cell_type": "code",
   "execution_count": 38,
   "id": "15e9a773",
   "metadata": {
    "execution": {
     "iopub.execute_input": "2021-08-26T17:02:43.971911Z",
     "iopub.status.busy": "2021-08-26T17:02:43.971302Z",
     "iopub.status.idle": "2021-08-26T17:02:43.976570Z",
     "shell.execute_reply": "2021-08-26T17:02:43.977073Z",
     "shell.execute_reply.started": "2021-08-26T16:57:24.606660Z"
    },
    "papermill": {
     "duration": 0.042586,
     "end_time": "2021-08-26T17:02:43.977261",
     "exception": false,
     "start_time": "2021-08-26T17:02:43.934675",
     "status": "completed"
    },
    "tags": []
   },
   "outputs": [
    {
     "data": {
      "text/plain": [
       "69.51219512195121"
      ]
     },
     "execution_count": 38,
     "metadata": {},
     "output_type": "execute_result"
    }
   ],
   "source": [
    "from sklearn.metrics import accuracy_score\n",
    "accuracy_score(y_test_, predict_)*100"
   ]
  },
  {
   "cell_type": "code",
   "execution_count": 39,
   "id": "97d8d2f7",
   "metadata": {
    "execution": {
     "iopub.execute_input": "2021-08-26T17:02:44.049916Z",
     "iopub.status.busy": "2021-08-26T17:02:44.049318Z",
     "iopub.status.idle": "2021-08-26T17:02:44.054261Z",
     "shell.execute_reply": "2021-08-26T17:02:44.054818Z",
     "shell.execute_reply.started": "2021-08-26T16:57:24.616241Z"
    },
    "papermill": {
     "duration": 0.043698,
     "end_time": "2021-08-26T17:02:44.055000",
     "exception": false,
     "start_time": "2021-08-26T17:02:44.011302",
     "status": "completed"
    },
    "tags": []
   },
   "outputs": [
    {
     "data": {
      "text/plain": [
       "63.109756097560975"
      ]
     },
     "execution_count": 39,
     "metadata": {},
     "output_type": "execute_result"
    }
   ],
   "source": [
    "accuracy_score(y_test_, predict2_)*100"
   ]
  },
  {
   "cell_type": "code",
   "execution_count": 40,
   "id": "cf63f2ea",
   "metadata": {
    "execution": {
     "iopub.execute_input": "2021-08-26T17:02:44.128696Z",
     "iopub.status.busy": "2021-08-26T17:02:44.128076Z",
     "iopub.status.idle": "2021-08-26T17:02:44.131997Z",
     "shell.execute_reply": "2021-08-26T17:02:44.132405Z",
     "shell.execute_reply.started": "2021-08-26T16:57:24.629010Z"
    },
    "papermill": {
     "duration": 0.043374,
     "end_time": "2021-08-26T17:02:44.132609",
     "exception": false,
     "start_time": "2021-08-26T17:02:44.089235",
     "status": "completed"
    },
    "tags": []
   },
   "outputs": [
    {
     "data": {
      "text/plain": [
       "66.46341463414635"
      ]
     },
     "execution_count": 40,
     "metadata": {},
     "output_type": "execute_result"
    }
   ],
   "source": [
    "accuracy_score(y_test_, predict3_)*100"
   ]
  },
  {
   "cell_type": "code",
   "execution_count": 41,
   "id": "8bd696b4",
   "metadata": {
    "execution": {
     "iopub.execute_input": "2021-08-26T17:02:44.206031Z",
     "iopub.status.busy": "2021-08-26T17:02:44.205438Z",
     "iopub.status.idle": "2021-08-26T17:02:44.213229Z",
     "shell.execute_reply": "2021-08-26T17:02:44.213702Z",
     "shell.execute_reply.started": "2021-08-26T17:01:58.598759Z"
    },
    "papermill": {
     "duration": 0.045676,
     "end_time": "2021-08-26T17:02:44.213881",
     "exception": false,
     "start_time": "2021-08-26T17:02:44.168205",
     "status": "completed"
    },
    "tags": []
   },
   "outputs": [],
   "source": [
    "submi = pd.DataFrame(predict3_,columns = ['Potability'])\n",
    "submi.to_csv('submission.csv',index = False)"
   ]
  },
  {
   "cell_type": "code",
   "execution_count": 42,
   "id": "f9995ecd",
   "metadata": {
    "execution": {
     "iopub.execute_input": "2021-08-26T17:02:44.287052Z",
     "iopub.status.busy": "2021-08-26T17:02:44.286482Z",
     "iopub.status.idle": "2021-08-26T17:02:45.060249Z",
     "shell.execute_reply": "2021-08-26T17:02:45.059766Z",
     "shell.execute_reply.started": "2021-08-26T17:02:05.238702Z"
    },
    "papermill": {
     "duration": 0.811204,
     "end_time": "2021-08-26T17:02:45.060392",
     "exception": false,
     "start_time": "2021-08-26T17:02:44.249188",
     "status": "completed"
    },
    "tags": []
   },
   "outputs": [
    {
     "name": "stdout",
     "output_type": "stream",
     "text": [
      "Potability\r\n",
      "0\r\n",
      "0\r\n",
      "0\r\n",
      "0\r\n",
      "0\r\n",
      "1\r\n",
      "1\r\n",
      "0\r\n",
      "1\r\n"
     ]
    }
   ],
   "source": [
    "!head 'submission.csv'"
   ]
  },
  {
   "cell_type": "code",
   "execution_count": null,
   "id": "f580ae7f",
   "metadata": {
    "papermill": {
     "duration": 0.034851,
     "end_time": "2021-08-26T17:02:45.130577",
     "exception": false,
     "start_time": "2021-08-26T17:02:45.095726",
     "status": "completed"
    },
    "tags": []
   },
   "outputs": [],
   "source": []
  }
 ],
 "metadata": {
  "kernelspec": {
   "display_name": "Python 3",
   "language": "python",
   "name": "python3"
  },
  "language_info": {
   "codemirror_mode": {
    "name": "ipython",
    "version": 3
   },
   "file_extension": ".py",
   "mimetype": "text/x-python",
   "name": "python",
   "nbconvert_exporter": "python",
   "pygments_lexer": "ipython3",
   "version": "3.7.10"
  },
  "papermill": {
   "default_parameters": {},
   "duration": 17.402333,
   "end_time": "2021-08-26T17:02:45.976488",
   "environment_variables": {},
   "exception": null,
   "input_path": "__notebook__.ipynb",
   "output_path": "__notebook__.ipynb",
   "parameters": {},
   "start_time": "2021-08-26T17:02:28.574155",
   "version": "2.3.3"
  }
 },
 "nbformat": 4,
 "nbformat_minor": 5
}
